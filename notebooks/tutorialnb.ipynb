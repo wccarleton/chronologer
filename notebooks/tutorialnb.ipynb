{
 "cells": [
  {
   "cell_type": "markdown",
   "metadata": {},
   "source": [
    "# Introduction\n",
    "\n",
    "Intro goes here."
   ]
  }
 ],
 "metadata": {
  "kernelspec": {
   "display_name": "chronologer",
   "language": "python",
   "name": "python3"
  },
  "language_info": {
   "name": "python",
   "version": "3.9.20"
  }
 },
 "nbformat": 4,
 "nbformat_minor": 2
}
