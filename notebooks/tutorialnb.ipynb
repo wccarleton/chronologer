{
 "cells": [
  {
   "cell_type": "markdown",
   "metadata": {},
   "source": [
    "# Introduction\n",
    "\n",
    "Intro goes here."
   ]
  },
  {
   "cell_type": "code",
   "execution_count": 1,
   "metadata": {},
   "outputs": [],
   "source": [
    "# imports\n",
    "import pymc as pm\n",
    "import pytensor.tensor as pt\n",
    "import numpy as np\n",
    "from chronologer.calcurves import download_intcal20\n",
    "from chronologer.calibration import calibrate, interpolate_calcurve, simulate_c14"
   ]
  },
  {
   "cell_type": "code",
   "execution_count": 2,
   "metadata": {},
   "outputs": [
    {
     "name": "stderr",
     "output_type": "stream",
     "text": [
      "c:\\users\\carleton\\documents\\projects\\chronologer\\chronologer\\chronologer\\calcurves.py:19: UserWarning: Calibration curve data is not strictly increasing. Adjusting sign to correct...\n",
      "  warnings.warn(\"Calibration curve data is not strictly increasing. Adjusting sign to correct...\")\n"
     ]
    }
   ],
   "source": [
    "# setup\n",
    "# Example usage to create initial intcal20 dictionary\n",
    "intcal20 = download_intcal20()\n",
    "\n",
    "# Example calibration curve data with negative values\n",
    "radiocarbon_age = np.array([-2500, -2000])            # Measured radiocarbon age\n",
    "radiocarbon_error = np.array([30, 30])                # Lab error\n",
    "\n",
    "# Precompute calibration limits\n",
    "cal_dates = calibrate(radiocarbon_ages = radiocarbon_age, \n",
    "                        radiocarbon_errors = radiocarbon_error, \n",
    "                        calbp = intcal20['calbp'], \n",
    "                        c14bp = intcal20['c14bp'], \n",
    "                        c14_sigma = intcal20['c14_sigma'], \n",
    "                        hdi_prob = 0.99)\n",
    "\n",
    "N = len(radiocarbon_age)\n",
    "\n",
    "lower_bound = cal_dates['HDI Lower (BP)'].values\n",
    "upper_bound = cal_dates['HDI Upper (BP)'].values\n",
    "\n",
    "mids = (upper_bound + lower_bound) / 2\n",
    "prior_sd = np.repeat(200, N)\n",
    "\n",
    "# recast calibration curve data as tensors for use in PyMC model context\n",
    "calbp_tensor = pt.as_tensor_variable(intcal20['calbp'])\n",
    "c14bp_tensor = pt.as_tensor_variable(intcal20['c14bp'])\n",
    "c14_sigma_tensor = pt.as_tensor_variable(intcal20['c14_sigma'])"
   ]
  },
  {
   "cell_type": "code",
   "execution_count": null,
   "metadata": {},
   "outputs": [],
   "source": [
    "# pymc \n",
    "with pm.Model() as model:\n",
    "    tau = pm.Uniform('tau', \n",
    "                    lower=lower_bound, \n",
    "                    upper=upper_bound,\n",
    "                    shape=N)\n",
    "\n",
    "    # calibration model\n",
    "    mean, error = interpolate_calcurve(tau, \n",
    "                                       calbp_tensor, \n",
    "                                       c14bp_tensor, \n",
    "                                       c14_sigma_tensor)\n",
    "    r_latent = pm.Normal('r_latent', \n",
    "                         mu=mean, \n",
    "                         sigma=error, \n",
    "                         shape=N)\n",
    "    r_measured = pm.Normal('r_measured', \n",
    "                           mu=r_latent, \n",
    "                           sigma=radiocarbon_error, \n",
    "                           observed=radiocarbon_age,\n",
    "                           shape=N)\n",
    "\n",
    "    # Sample from the posterior\n",
    "    trace = pm.sample(draws=5000, chains = 1, init=\"adapt_diag\")"
   ]
  },
  {
   "cell_type": "code",
   "execution_count": null,
   "metadata": {},
   "outputs": [],
   "source": [
    "pm.summary(trace)"
   ]
  },
  {
   "cell_type": "code",
   "execution_count": null,
   "metadata": {},
   "outputs": [],
   "source": [
    "# compare with dates calibrated quickly using the standard approach\n",
    "cal_dates"
   ]
  },
  {
   "cell_type": "code",
   "execution_count": null,
   "metadata": {},
   "outputs": [],
   "source": [
    "# Plot the results\n",
    "pm.plot_trace(trace)"
   ]
  },
  {
   "cell_type": "code",
   "execution_count": 3,
   "metadata": {},
   "outputs": [
    {
     "data": {
      "text/plain": [
       "array([-2484.54494057, -2203.52219694, -2046.45402279])"
      ]
     },
     "execution_count": 3,
     "metadata": {},
     "output_type": "execute_result"
    }
   ],
   "source": [
    "sim_cal_ages = np.array([-2500, -2250, -2000])\n",
    "simulate_c14(sim_cal_ages,\n",
    "             \n",
    "\n",
    "\n"
   ]
  }
 ],
 "metadata": {
  "kernelspec": {
   "display_name": "pybayes",
   "language": "python",
   "name": "python3"
  },
  "language_info": {
   "codemirror_mode": {
    "name": "ipython",
    "version": 3
   },
   "file_extension": ".py",
   "mimetype": "text/x-python",
   "name": "python",
   "nbconvert_exporter": "python",
   "pygments_lexer": "ipython3",
   "version": "3.11.9"
  }
 },
 "nbformat": 4,
 "nbformat_minor": 2
}
